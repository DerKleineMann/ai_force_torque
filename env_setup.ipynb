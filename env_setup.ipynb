{
 "cells": [
  {
   "cell_type": "markdown",
   "metadata": {},
   "source": [
    "# Setup file\n",
    "\n",
    "List of every code snippet checking for a specific configuration :\n",
    "- Run each code block individually\n",
    "- If none of them cause an error when executed, the setup is ready to go\n",
    "- Ignore cuda & cudNN warnings by tensorflow"
   ]
  },
  {
   "cell_type": "markdown",
   "metadata": {},
   "source": [
    "## Documentation links"
   ]
  },
  {
   "cell_type": "markdown",
   "metadata": {},
   "source": [
    "[Tensorflow guide](https://www.tensorflow.org/guide)  \n",
    "[Keras guide](https://keras.io/guides/)  "
   ]
  },
  {
   "cell_type": "markdown",
   "metadata": {},
   "source": [
    "## Python libraries"
   ]
  },
  {
   "cell_type": "markdown",
   "metadata": {},
   "source": [
    "### Libraries"
   ]
  },
  {
   "cell_type": "code",
   "execution_count": 1,
   "metadata": {},
   "outputs": [
    {
     "name": "stderr",
     "output_type": "stream",
     "text": [
      "2024-01-16 15:34:19.768375: E external/local_xla/xla/stream_executor/cuda/cuda_dnn.cc:9261] Unable to register cuDNN factory: Attempting to register factory for plugin cuDNN when one has already been registered\n",
      "2024-01-16 15:34:19.768456: E external/local_xla/xla/stream_executor/cuda/cuda_fft.cc:607] Unable to register cuFFT factory: Attempting to register factory for plugin cuFFT when one has already been registered\n",
      "2024-01-16 15:34:19.812068: E external/local_xla/xla/stream_executor/cuda/cuda_blas.cc:1515] Unable to register cuBLAS factory: Attempting to register factory for plugin cuBLAS when one has already been registered\n",
      "2024-01-16 15:34:19.942978: I tensorflow/core/platform/cpu_feature_guard.cc:182] This TensorFlow binary is optimized to use available CPU instructions in performance-critical operations.\n",
      "To enable the following instructions: AVX2 FMA, in other operations, rebuild TensorFlow with the appropriate compiler flags.\n",
      "2024-01-16 15:34:20.933653: W tensorflow/compiler/tf2tensorrt/utils/py_utils.cc:38] TF-TRT Warning: Could not find TensorRT\n"
     ]
    }
   ],
   "source": [
    "import pandas\n",
    "import numpy\n",
    "import tensorflow\n",
    "import matplotlib\n",
    "import keras_tuner\n",
    "import seaborn\n",
    "import graphviz\n",
    "import pydot\n",
    "import scikeras\n",
    "import sklearn\n",
    "import os"
   ]
  },
  {
   "cell_type": "markdown",
   "metadata": {},
   "source": [
    "### Dependencies\n",
    "\n",
    "Most of those imports check if any library version has been changed (example : keras.utils.vis_utils has been moved to keras.utils)"
   ]
  },
  {
   "cell_type": "code",
   "execution_count": null,
   "metadata": {},
   "outputs": [],
   "source": [
    "from tensorflow import *\n",
    "\n",
    "from keras.models import Sequential\n",
    "from keras.layers import Dense, Conv1D, Flatten, Input, GlobalAveragePooling1D, Dropout\n",
    "from keras.preprocessing import timeseries_dataset_from_array\n",
    "from keras.utils import plot_model\n",
    "\n",
    "from scikeras.wrappers import KerasRegressor\n",
    "\n",
    "from matplotlib import pyplot\n",
    "\n",
    "from sklearn.preprocessing import normalize, LabelBinarizer\n",
    "from sklearn.model_selection import train_test_split"
   ]
  },
  {
   "cell_type": "markdown",
   "metadata": {},
   "source": [
    "## Tensorflow GPU"
   ]
  },
  {
   "cell_type": "markdown",
   "metadata": {},
   "source": [
    "Useful setup guide : [Link](https://www.tensorflow.org/guide/gpu)\n",
    "\n",
    "Expected output of the following code : \n",
    "\n",
    "    [PhysicalDevice(name='/physical_device:GPU:0', device_type='GPU')]\n",
    "     \n",
    "    <function is_built_with_cuda at 0x7f4f5730fbf8>\n",
    "     \n",
    "    /device:GPU:0\n",
    "     \n",
    "    [PhysicalDevice(name='/physical_device:CPU:0', device_type='CPU'), PhysicalDevice(name='/physical_device:GPU:0', device_type='GPU')]\n",
    "    Cuda & CudNN warnings"
   ]
  },
  {
   "cell_type": "code",
   "execution_count": null,
   "metadata": {},
   "outputs": [],
   "source": [
    "import tensorflow as tf\n",
    "\n",
    "print(tf.config.list_physical_devices('GPU'))\n",
    "print(\"\\n\")\n",
    "print(tf.test.is_built_with_cuda)\n",
    "print(\"\\n\")\n",
    "print(tf.test.gpu_device_name())\n",
    "print(\"\\n\")\n",
    "print(tf.config.get_visible_devices())"
   ]
  },
  {
   "cell_type": "markdown",
   "metadata": {},
   "source": [
    "## TensorBoard"
   ]
  },
  {
   "cell_type": "markdown",
   "metadata": {},
   "source": [
    "### TensorBoard Notebook loading"
   ]
  },
  {
   "cell_type": "code",
   "execution_count": null,
   "metadata": {},
   "outputs": [],
   "source": [
    "%load_ext tensorboard"
   ]
  },
  {
   "cell_type": "markdown",
   "metadata": {},
   "source": [
    "### Tensorboard loading test"
   ]
  },
  {
   "cell_type": "code",
   "execution_count": null,
   "metadata": {},
   "outputs": [],
   "source": [
    "# Wipe the directory full of test logs\n",
    "os.system(\"rm -rf ./logs/\")"
   ]
  },
  {
   "cell_type": "code",
   "execution_count": null,
   "metadata": {},
   "outputs": [],
   "source": [
    "import tensorflow as tf\n",
    "import datetime\n",
    "\n",
    "mnist = tf.keras.datasets.mnist\n",
    "\n",
    "(x_train, y_train),(x_test, y_test) = mnist.load_data()\n",
    "x_train, x_test = x_train / 255.0, x_test / 255.0\n",
    "\n",
    "def create_model():\n",
    "  return tf.keras.models.Sequential([\n",
    "    tf.keras.layers.Flatten(input_shape=(28, 28), name='layers_flatten'),\n",
    "    tf.keras.layers.Dense(512, activation='relu', name='layers_dense'),\n",
    "    tf.keras.layers.Dropout(0.2, name='layers_dropout'),\n",
    "    tf.keras.layers.Dense(10, activation='softmax', name='layers_dense_2')\n",
    "  ])\n",
    "\n",
    "\n",
    "model = create_model()\n",
    "model.compile(optimizer='adam',\n",
    "              loss='sparse_categorical_crossentropy',\n",
    "              metrics=['accuracy'])\n",
    "\n",
    "log_dir = \"logs/fit/\" + datetime.datetime.now().strftime(\"%Y%m%d-%H%M%S\")\n",
    "tensorboard_callback = tf.keras.callbacks.TensorBoard(log_dir=log_dir, histogram_freq=1)\n",
    "\n",
    "model.fit(x=x_train, \n",
    "          y=y_train, \n",
    "          epochs=5, \n",
    "          validation_data=(x_test, y_test), \n",
    "          callbacks=[tensorboard_callback])\n",
    "\n",
    "\n",
    "%tensorboard --logdir logs/fit"
   ]
  },
  {
   "cell_type": "markdown",
   "metadata": {},
   "source": [
    "## File pathing setup"
   ]
  },
  {
   "cell_type": "markdown",
   "metadata": {},
   "source": [
    "\n",
    "### Configuration variables"
   ]
  },
  {
   "cell_type": "code",
   "execution_count": 2,
   "metadata": {},
   "outputs": [],
   "source": [
    "# Parameter\n",
    "wipe_dirs=True\n",
    "\n",
    "# Main directories\n",
    "data_dir_name=\"data\"\n",
    "result_dir_name=\"results\"\n",
    "\n",
    "# Sub-directories\n",
    "data_dir_sub=[\"temp\",\"zip\",\"feather\"]\n",
    "result_dir_sub=[]"
   ]
  },
  {
   "cell_type": "markdown",
   "metadata": {},
   "source": [
    "### Tests"
   ]
  },
  {
   "cell_type": "code",
   "execution_count": 3,
   "metadata": {},
   "outputs": [
    {
     "name": "stderr",
     "output_type": "stream",
     "text": [
      "rm: cannot remove '/home/quentin/Documents/ai_force_torque/data/temp/*': No such file or directory\n"
     ]
    }
   ],
   "source": [
    "# Get current directory\n",
    "FILENAME=\"env_setup.ipynb\"\n",
    "DIRNAME=os.path.abspath(FILENAME).replace(FILENAME,'')\n",
    "\n",
    "if os.path.isdir(DIRNAME+\"data/\"):\n",
    "    for dir in data_dir_sub:\n",
    "        if not os.path.isdir(DIRNAME+\"data/\"+dir+\"/\"):\n",
    "            os.system(\"mkdir \"+DIRNAME+\"data/\"+dir)\n",
    "        elif wipe_dirs:\n",
    "            os.system('rm -r '+DIRNAME+'data/'+dir+\"/*\")\n",
    "else :\n",
    "    os.system(\"mkdir \"+DIRNAME+\"data\")\n",
    "\n",
    "if os.path.isdir(DIRNAME+\"results/\"):\n",
    "    for dir in result_dir_sub:\n",
    "        if not os.path.isdir(DIRNAME+\"results/\"+dir+\"/\"):\n",
    "            os.system(\"mkdir \"+DIRNAME+\"results/\"+dir)\n",
    "        elif wipe_dirs:\n",
    "            os.system('rm -r '+DIRNAME+'results/'+dir+\"/*\")\n",
    "else :\n",
    "    os.system(\"mkdir \"+DIRNAME+\"results\")"
   ]
  }
 ],
 "metadata": {
  "kernelspec": {
   "display_name": "tensor",
   "language": "python",
   "name": "python3"
  },
  "language_info": {
   "codemirror_mode": {
    "name": "ipython",
    "version": 3
   },
   "file_extension": ".py",
   "mimetype": "text/x-python",
   "name": "python",
   "nbconvert_exporter": "python",
   "pygments_lexer": "ipython3",
   "version": "3.10.13"
  }
 },
 "nbformat": 4,
 "nbformat_minor": 2
}
