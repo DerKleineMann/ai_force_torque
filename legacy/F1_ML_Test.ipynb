{
 "cells": [
  {
   "cell_type": "markdown",
   "id": "f1416b80",
   "metadata": {},
   "source": [
    "**list of contents**\n",
    "\n",
    "[1. Preparation](#Preparation)<br>\n",
    "&nbsp;[1.1 import lib](#import-lib)<br>\n",
    "&nbsp;[1.2 data import](#data-import)<br>\n",
    "&nbsp;[1.3 data preparation](#data-import)<br>\n",
    "&ensp;[1.3.1 data diagram](#data-diagram)<br>\n",
    "&ensp;[1.3.2 check data shape](#check-data-shape)<br>\n",
    "&nbsp;[1.4 reshape data](#reshape-data)<br>\n",
    "[2. ML Training](#ML-Training)<br>\n",
    "&nbsp;[2.1 ML data preparation](#ML-data-preparation)<br>\n",
    "&ensp;[2.1.1 select data and rename columns](#select-data-and-rename-columns)<br>\n",
    "&ensp;[2.1.2 merge dataframe and set key](#merge-dataframe-and-set-key)<br>\n",
    "&nbsp;[2.2 Training](#Training)<br>\n",
    "&ensp;[2.2.1 Position Estimation FFNN](#Position-Estimation-FFNN)<br>\n",
    "&emsp;[2.2.1.1 FFNN Regression here start](#FFNN-Regression-here-start)<br>\n",
    "&ensp;[2.2.2 Position Classification FFNN](#Position-Classification-FFNN)<br>\n",
    "&emsp;[2.2.2.1 FFNN Classification here start](#FFNN-Classification-here-start)<br>\n",
    "&ensp;[2.2.3 Position Estimation CNN](#Position-Estimation-CNN)<br>\n",
    "&emsp;[2.2.3.1 CNN Regression here start](#CNN-Regression-here-start)<br>"
   ]
  },
  {
   "cell_type": "markdown",
   "id": "c0ef074e",
   "metadata": {},
   "source": [
    "# Preparation"
   ]
  },
  {
   "cell_type": "markdown",
   "id": "b7b476e3",
   "metadata": {},
   "source": [
    "## import lib"
   ]
  },
  {
   "cell_type": "code",
   "execution_count": null,
   "id": "57544af4",
   "metadata": {},
   "outputs": [],
   "source": [
    "# import lib\n",
    "import pandas as pd\n",
    "import numpy as np\n",
    "import tensorflow as tf\n",
    "from tensorflow import keras\n",
    "from tensorflow.keras.models import Sequential\n",
    "from tensorflow.keras.layers import Dense, Conv1D, Flatten, Input, GlobalAveragePooling1D, Dropout\n",
    "from tensorflow.keras.preprocessing import timeseries_dataset_from_array\n",
    "from matplotlib import pyplot as plt\n",
    "import seaborn as sns\n",
    "from sklearn.preprocessing import normalize, LabelBinarizer\n",
    "from sklearn.model_selection import train_test_split\n",
    "import keras_tuner\n",
    "#from keras.wrappers.scikit_learn import KerasRegressor\n",
    "from scikeras.wrappers import KerasRegressor\n",
    "#from keras.utils.vis_utils import plot_model\n",
    "import graphviz\n",
    "import pydot\n",
    "%matplotlib inline\n",
    "sns.set(style=\"darkgrid\")"
   ]
  },
  {
   "cell_type": "code",
   "execution_count": null,
   "id": "e131aefd",
   "metadata": {},
   "outputs": [],
   "source": [
    "import tensorflow as tf\n",
    "\n",
    "print(tf.config.list_physical_devices('GPU'))\n",
    "# [PhysicalDevice(name='/physical_device:GPU:0', device_type='GPU')]\n",
    "\n",
    "print(tf.test.is_built_with_cuda)\n",
    "# <function is_built_with_cuda at 0x7f4f5730fbf8>\n",
    "\n",
    "print(tf.test.gpu_device_name())\n",
    "# /device:GPU:0\n",
    "\n",
    "print(tf.config.get_visible_devices())\n",
    "# [PhysicalDevice(name='/physical_device:CPU:0', device_type='CPU'), PhysicalDevice(name='/physical_device:GPU:0', device_type='GPU')]\n",
    "\n"
   ]
  },
  {
   "cell_type": "markdown",
   "id": "cfcb66a5",
   "metadata": {},
   "source": [
    "## data import"
   ]
  },
  {
   "cell_type": "code",
   "execution_count": null,
   "id": "11d47b9c",
   "metadata": {},
   "outputs": [],
   "source": [
    "# define transform function\n",
    "def umform(data):\n",
    "    pur_data=[]\n",
    "    for i in data:\n",
    "        sp = i.split(' ')\n",
    "        sp[:]=[x for x in sp if x]\n",
    "        pur_data.append(sp)\n",
    "    return pur_data\n",
    "\n",
    "# define labels for dataframe\n",
    "labels= ['ZeitInSec',\n",
    "         'ZeitInNanoSec',\n",
    "         'axisTauExtMsr_LBR_iiwa_14_R820_1[0]',\n",
    "         'axisTauExtMsr_LBR_iiwa_14_R820_1[1]',\n",
    "         'axisTauExtMsr_LBR_iiwa_14_R820_1[2]',\n",
    "         'axisTauExtMsr_LBR_iiwa_14_R820_1[3]',\n",
    "         'axisTauExtMsr_LBR_iiwa_14_R820_1[4]',\n",
    "         'axisTauExtMsr_LBR_iiwa_14_R820_1[5]',\n",
    "         'axisTauExtMsr_LBR_iiwa_14_R820_1[6]',\n",
    "         'axisTauMsr_LBR_iiwa_14_R820_1[0]',\n",
    "         'axisTauMsr_LBR_iiwa_14_R820_1[1]',\n",
    "         'axisTauMsr_LBR_iiwa_14_R820_1[2]',\n",
    "         'axisTauMsr_LBR_iiwa_14_R820_1[3]',\n",
    "         'axisTauMsr_LBR_iiwa_14_R820_1[4]',\n",
    "         'axisTauMsr_LBR_iiwa_14_R820_1[5]',\n",
    "         'axisTauMsr_LBR_iiwa_14_R820_1[6]',\n",
    "         'cartForce1_X',\n",
    "         'cartForceVar1_X',\n",
    "         'cartForce1_Y',\n",
    "         'cartForceVar1_Y',\n",
    "         'cartForce1_Z',\n",
    "         'cartForceVar1_Z',\n",
    "         'cartTorque1_TauX',\n",
    "         'cartVarTorque1_TauX',\n",
    "         'cartTorque1_TauY',\n",
    "         'cartVarTorque1_TauY',\n",
    "         'cartTorque1_TauZ',\n",
    "         'cartVarTorque1_TauZ',\n",
    "         'axisQMsr_LBR_iiwa_14_R820_1[0]',\n",
    "         'axisQMsr_LBR_iiwa_14_R820_1[1]',\n",
    "         'axisQMsr_LBR_iiwa_14_R820_1[2]',\n",
    "         'axisQMsr_LBR_iiwa_14_R820_1[3]',\n",
    "         'axisQMsr_LBR_iiwa_14_R820_1[4]',\n",
    "         'axisQMsr_LBR_iiwa_14_R820_1[5]',\n",
    "         'axisQMsr_LBR_iiwa_14_R820_1[6]',\n",
    "         'axisQCmdT1m_LBR_iiwa_14_R820_1[0]',\n",
    "         'axisQCmdT1m_LBR_iiwa_14_R820_1[1]',\n",
    "         'axisQCmdT1m_LBR_iiwa_14_R820_1[2]',\n",
    "         'axisQCmdT1m_LBR_iiwa_14_R820_1[3]',\n",
    "         'axisQCmdT1m_LBR_iiwa_14_R820_1[4]',\n",
    "         'axisQCmdT1m_LBR_iiwa_14_R820_1[5]',\n",
    "         'axisQCmdT1m_LBR_iiwa_14_R820_1[6]',\n",
    "         'CartPosMsr1_X',\n",
    "         'CartPosMsr1_Y',\n",
    "         'CartPosMsr1_Z',\n",
    "         'CartPosCmd1_X',\n",
    "         'CartPosCmd1_Y',\n",
    "         'CartPosCmd1_Z']\n",
    "\n",
    "for i in range(0,11):\n",
    "    for j in range(0,11):\n",
    "        file = open(\"Data/versuch_f1/f_\"+ str(i) + \"_\" + str(j) +\"_demoRecord.txt\",'r')\n",
    "\n",
    "        cl = []\n",
    "        for line in file:\n",
    "            cl.append(line.strip())\n",
    "        data = cl[1:]\n",
    "\n",
    "        pur = umform(data)\n",
    "\n",
    "        df = pd.DataFrame(pur, columns=labels)\n",
    "        df = df.astype(float)\n",
    "    \n",
    "        locals()[f'df{i}_{j}'] = df"
   ]
  },
  {
   "cell_type": "markdown",
   "id": "9fd6bcf1",
   "metadata": {},
   "source": [
    "## Data preparation"
   ]
  },
  {
   "cell_type": "markdown",
   "id": "e40b3e21",
   "metadata": {},
   "source": [
    "### data diagram"
   ]
  },
  {
   "cell_type": "markdown",
   "id": "9c0f7b31",
   "metadata": {},
   "source": [
    "#### Cart Forces TCP"
   ]
  },
  {
   "cell_type": "code",
   "execution_count": null,
   "id": "31b73633",
   "metadata": {},
   "outputs": [],
   "source": [
    "plt.figure(figsize=(110,110))\n",
    "plt.suptitle(\"Forces on different points\", fontsize=100)\n",
    "for i in range (0,11):\n",
    "    for j in range (0,11):\n",
    "        plt.subplot(11, 11, i*11+j+1)\n",
    "        plt.plot(locals()[f'df{i}_{j}']['cartForce1_X'],label=\"x\")\n",
    "        plt.plot(locals()[f'df{i}_{j}']['cartForce1_Y'],label=\"y\")\n",
    "        plt.plot(locals()[f'df{i}_{j}']['cartForce1_Z'],label=\"z\")\n",
    "        plt.title(\"df{0}_{1}\".format(i,j))\n",
    "        plt.ylim([-10,50])\n",
    "        plt.legend()\n",
    "        j += 1\n",
    "    i += 1\n",
    "plt.show()"
   ]
  },
  {
   "cell_type": "markdown",
   "id": "f814fb77",
   "metadata": {},
   "source": [
    "#### Cart Torques TCP"
   ]
  },
  {
   "cell_type": "code",
   "execution_count": null,
   "id": "eb2bcc91",
   "metadata": {},
   "outputs": [],
   "source": [
    "plt.figure(figsize=(110,110))\n",
    "plt.suptitle(\"Torques on different points\", fontsize=100)\n",
    "for i in range (0,11):\n",
    "    for j in range (0,11):\n",
    "        plt.subplot(11, 11, i*11+j+1)\n",
    "        plt.plot(locals()[f'df{i}_{j}']['cartTorque1_TauX'],label=\"x\")\n",
    "        plt.plot(locals()[f'df{i}_{j}']['cartTorque1_TauY'],label=\"y\")\n",
    "        plt.plot(locals()[f'df{i}_{j}']['cartTorque1_TauZ'],label=\"z\")\n",
    "        plt.title(\"df{0}_{1}\".format(i,j))\n",
    "        plt.ylim([-3,3])\n",
    "        plt.legend()\n",
    "plt.show()"
   ]
  },
  {
   "cell_type": "markdown",
   "id": "9e4771e8",
   "metadata": {},
   "source": [
    "#### External Torques on different joints"
   ]
  },
  {
   "cell_type": "code",
   "execution_count": null,
   "id": "07a0340a",
   "metadata": {},
   "outputs": [],
   "source": [
    "plt.figure(figsize=(110,110))\n",
    "for i in range (0,11):\n",
    "    for j in range (0,11):\n",
    "        plt.subplot(11, 11, i*11+j+1)\n",
    "        for k in range(0,7):\n",
    "            plt.plot(locals()[f'df{i}_{j}']['axisTauExtMsr_LBR_iiwa_14_R820_1[{0}]'.format(k)],label=\"j{0}\".format(k))\n",
    "        plt.title(\"df{0}_{1}\".format(i,j))\n",
    "        plt.ylim([-30,20])\n",
    "        plt.legend()\n",
    "plt.suptitle(\"External Torques on different joints\",fontsize=100)\n",
    "plt.show()"
   ]
  },
  {
   "cell_type": "markdown",
   "id": "fac59712",
   "metadata": {},
   "source": [
    "#### Internal Torques on different joints"
   ]
  },
  {
   "cell_type": "code",
   "execution_count": null,
   "id": "e00cb6a0",
   "metadata": {},
   "outputs": [],
   "source": [
    "plt.figure(figsize=(110,110))\n",
    "for i in range (0,11):\n",
    "    for j in range (0,11):\n",
    "        plt.subplot(11, 11, i*11+j+1)\n",
    "        for k in range(0,7):\n",
    "            plt.plot(locals()[f'df{i}_{j}']['axisTauMsr_LBR_iiwa_14_R820_1[{0}]'.format(k)],label=\"j{0}\".format(k))\n",
    "        plt.title(\"df{0}_{1}\".format(i,j))\n",
    "        plt.ylim([-45,85])\n",
    "        plt.legend()\n",
    "plt.title(\"Internal Torques on different joints\",fontsize=100)\n",
    "plt.show()"
   ]
  },
  {
   "cell_type": "code",
   "execution_count": null,
   "id": "7d5fe862",
   "metadata": {},
   "outputs": [],
   "source": [
    "plt.plot(df0_0['CartPosMsr1_Z'],label=\"z_ist\")\n",
    "plt.plot(df0_0['CartPosCmd1_Z'],label=\"z_soll\")\n",
    "plt.legend()"
   ]
  },
  {
   "cell_type": "code",
   "execution_count": null,
   "id": "a0305c5a",
   "metadata": {},
   "outputs": [],
   "source": [
    "plt.plot(df0_0['cartForce1_Z'])"
   ]
  },
  {
   "cell_type": "markdown",
   "id": "da85cd5b",
   "metadata": {},
   "source": [
    "### check data shape"
   ]
  },
  {
   "cell_type": "code",
   "execution_count": null,
   "id": "5e1c0c1f",
   "metadata": {},
   "outputs": [],
   "source": [
    "data_shape=[]\n",
    "for i in range (0,11):\n",
    "    for j in range (0,11):\n",
    "        #if (locals()[f'df{i}_{j}'].shape[0] < 5000):\n",
    "        data_shape.append(locals()[f'df{i}_{j}'].shape[0])\n",
    "sns.histplot(data=data_shape)"
   ]
  },
  {
   "cell_type": "markdown",
   "id": "d1d0ccd7",
   "metadata": {},
   "source": [
    "## reshape data\n",
    "leave only the last 3000 points"
   ]
  },
  {
   "cell_type": "code",
   "execution_count": null,
   "id": "7c68e610",
   "metadata": {},
   "outputs": [],
   "source": [
    "for i in range (0,11):\n",
    "    for j in range (0,11):\n",
    "        locals()[f'df{i}_{j}_reshape']=locals()[f'df{i}_{j}'][-3000:].reset_index()"
   ]
  },
  {
   "cell_type": "markdown",
   "id": "c7ae2feb",
   "metadata": {},
   "source": [
    "# ML Training"
   ]
  },
  {
   "cell_type": "markdown",
   "id": "3a5ad69f",
   "metadata": {},
   "source": [
    "## ML data preparation"
   ]
  },
  {
   "cell_type": "markdown",
   "id": "549304cc",
   "metadata": {},
   "source": [
    "### select data and rename columns"
   ]
  },
  {
   "cell_type": "markdown",
   "id": "b4f78b1e",
   "metadata": {},
   "source": [
    "**labels:**\n",
    "| Original Name                       | Description             | Rename |\n",
    "| -----                               | -----------             | ------ |\n",
    "| ZeitInSec                           | Time in s               |        |\n",
    "| ZeitInNanoSec                       | Time in ns              |        |\n",
    "| axisTauExtMsr_LBR_iiwa_14_R820_1[0] | External Torques of A1  | exT_A1 |\n",
    "| axisTauExtMsr_LBR_iiwa_14_R820_1[1] | External Torques of A2  | exT_A2 |\n",
    "| axisTauExtMsr_LBR_iiwa_14_R820_1[2] | External Torques of A3  | exT_A3 |\n",
    "| axisTauExtMsr_LBR_iiwa_14_R820_1[3] | External Torques of A4  | exT_A4 |\n",
    "| axisTauExtMsr_LBR_iiwa_14_R820_1[4] | External Torques of A5  | exT_A5 |\n",
    "| axisTauExtMsr_LBR_iiwa_14_R820_1[5] | External Torques of A6  | exT_A6 |\n",
    "| axisTauExtMsr_LBR_iiwa_14_R820_1[6] | External Torques of A7  | exT_A7 |\n",
    "| axisTauMsr_LBR_iiwa_14_R820_1[0]    | Measured Torques of A1  | msT_A1 |\n",
    "| axisTauMsr_LBR_iiwa_14_R820_1[1]    | Measured Torques of A2  | msT_A2 |\n",
    "| axisTauMsr_LBR_iiwa_14_R820_1[2]    | Measured Torques of A3  | msT_A3 |\n",
    "| axisTauMsr_LBR_iiwa_14_R820_1[3]    | Measured Torques of A4  | msT_A4 |\n",
    "| axisTauMsr_LBR_iiwa_14_R820_1[4]    | Measured Torques of A5  | msT_A5 |\n",
    "| axisTauMsr_LBR_iiwa_14_R820_1[5]    | Measured Torques of A6  | msT_A6 |\n",
    "| axisTauMsr_LBR_iiwa_14_R820_1[6]    | Measured Torques of A7  | msT_A7 |\n",
    "| cartForce1_X                        | Cartesian Force along x | Fx     |\n",
    "| cartForceVar1_X                     |                         |        |\n",
    "| cartForce1_Y                        | Cartesian Force along y | Fy     |\n",
    "| cartForceVar1_Y                     |                         |        |\n",
    "| cartForce1_Z                        | Cartesian Force along z | Fz     |\n",
    "| cartForceVar1_Z                     |                         |        |\n",
    "| cartTorque1_TauX                    | Cartesian Torque in x   | Tx     |\n",
    "| cartVarTorque1_TauX                 |                         |        |\n",
    "| cartTorque1_TauY                    | Cartesian Torque in y   | Ty     |\n",
    "| cartVarTorque1_TauY                 |                         |        |\n",
    "| cartTorque1_TauZ                    | Cartesian Torque in z   | Tz     |\n",
    "| cartVarTorque1_TauZ                 |                         |        |\n",
    "| axisQMsr_LBR_iiwa_14_R820_1[0]      | Current Joint Position of A1 | cur_A1 |\n",
    "| axisQMsr_LBR_iiwa_14_R820_1[1]      | Current Joint Position of A2 | cur_A2 |\n",
    "| axisQMsr_LBR_iiwa_14_R820_1[2]      | Current Joint Position of A3 | cur_A3 |\n",
    "| axisQMsr_LBR_iiwa_14_R820_1[3]      | Current Joint Position of A4 | cur_A4 |\n",
    "| axisQMsr_LBR_iiwa_14_R820_1[4]      | Current Joint Position of A5 | cur_A5 |\n",
    "| axisQMsr_LBR_iiwa_14_R820_1[5]      | Current Joint Position of A6 | cur_A6 |\n",
    "| axisQMsr_LBR_iiwa_14_R820_1[6]      | Current Joint Position of A7 | cur_A7 |\n",
    "| axisQCmdT1m_LBR_iiwa_14_R820_1[0]   | Commanded Joint Position of A1 | comd_A1 |\n",
    "| axisQCmdT1m_LBR_iiwa_14_R820_1[1]   | Commanded Joint Position of A2 | comd_A2 |\n",
    "| axisQCmdT1m_LBR_iiwa_14_R820_1[2]   | Commanded Joint Position of A3 | comd_A3 |\n",
    "| axisQCmdT1m_LBR_iiwa_14_R820_1[3]   | Commanded Joint Position of A4 | comd_A4 |\n",
    "| axisQCmdT1m_LBR_iiwa_14_R820_1[4]   | Commanded Joint Position of A5 | comd_A5 |\n",
    "| axisQCmdT1m_LBR_iiwa_14_R820_1[5]   | Commanded Joint Position of A6 | comd_A6 |\n",
    "| axisQCmdT1m_LBR_iiwa_14_R820_1[6]   | Commanded Joint Position of A7 | comd_A7 |\n",
    "| CartPosMsr1_X                       | Current Cartesian Position in x | curCart_x |\n",
    "| CartPosMsr1_Y                       | Current Cartesian Position in y | curCart_y |\n",
    "| CartPosMsr1_Z                       | Current Cartesian Position in z | curCart_z |\n",
    "| CartPosCmd1_X                       | Commanded Cartesian Position in x | comdCart_x |\n",
    "| CartPosCmd1_Y                       | Commanded Cartesian Position in y | comdCart_y |\n",
    "| CartPosCmd1_Z                       | Commanded Cartesian Position in z | comdCart_z |"
   ]
  },
  {
   "cell_type": "markdown",
   "id": "fa20ad4a",
   "metadata": {},
   "source": [
    "select the needed data"
   ]
  },
  {
   "cell_type": "code",
   "execution_count": null,
   "id": "88913ad0",
   "metadata": {},
   "outputs": [],
   "source": [
    "for i in range (0,11):\n",
    "    for j in range (0,11):\n",
    "        locals()[f'df{i}_{j}_select']=locals()[f'df{i}_{j}_reshape'][[\n",
    "         'axisTauExtMsr_LBR_iiwa_14_R820_1[0]',\n",
    "         'axisTauExtMsr_LBR_iiwa_14_R820_1[1]',\n",
    "         'axisTauExtMsr_LBR_iiwa_14_R820_1[2]',\n",
    "         'axisTauExtMsr_LBR_iiwa_14_R820_1[3]',\n",
    "         'axisTauExtMsr_LBR_iiwa_14_R820_1[4]',\n",
    "         'axisTauExtMsr_LBR_iiwa_14_R820_1[5]',\n",
    "         'axisTauExtMsr_LBR_iiwa_14_R820_1[6]',\n",
    "         'axisTauMsr_LBR_iiwa_14_R820_1[0]',\n",
    "         'axisTauMsr_LBR_iiwa_14_R820_1[1]',\n",
    "         'axisTauMsr_LBR_iiwa_14_R820_1[2]',\n",
    "         'axisTauMsr_LBR_iiwa_14_R820_1[3]',\n",
    "         'axisTauMsr_LBR_iiwa_14_R820_1[4]',\n",
    "         'axisTauMsr_LBR_iiwa_14_R820_1[5]',\n",
    "         'axisTauMsr_LBR_iiwa_14_R820_1[6]',\n",
    "         'cartForce1_X',\n",
    "         'cartForce1_Y',\n",
    "         'cartForce1_Z',\n",
    "         'cartTorque1_TauX',\n",
    "         'cartTorque1_TauY',\n",
    "         'cartTorque1_TauZ',\n",
    "         'axisQMsr_LBR_iiwa_14_R820_1[0]',\n",
    "         'axisQMsr_LBR_iiwa_14_R820_1[1]',\n",
    "         'axisQMsr_LBR_iiwa_14_R820_1[2]',\n",
    "         'axisQMsr_LBR_iiwa_14_R820_1[3]',\n",
    "         'axisQMsr_LBR_iiwa_14_R820_1[4]',\n",
    "         'axisQMsr_LBR_iiwa_14_R820_1[5]',\n",
    "         'axisQMsr_LBR_iiwa_14_R820_1[6]',\n",
    "         'axisQCmdT1m_LBR_iiwa_14_R820_1[0]',\n",
    "         'axisQCmdT1m_LBR_iiwa_14_R820_1[1]',\n",
    "         'axisQCmdT1m_LBR_iiwa_14_R820_1[2]',\n",
    "         'axisQCmdT1m_LBR_iiwa_14_R820_1[3]',\n",
    "         'axisQCmdT1m_LBR_iiwa_14_R820_1[4]',\n",
    "         'axisQCmdT1m_LBR_iiwa_14_R820_1[5]',\n",
    "         'axisQCmdT1m_LBR_iiwa_14_R820_1[6]',\n",
    "         'CartPosMsr1_X',\n",
    "         'CartPosMsr1_Y',\n",
    "         'CartPosMsr1_Z',\n",
    "         'CartPosCmd1_X',\n",
    "         'CartPosCmd1_Y',\n",
    "         'CartPosCmd1_Z']]\n",
    "                                                                      "
   ]
  },
  {
   "cell_type": "markdown",
   "id": "5c177b12",
   "metadata": {},
   "source": [
    "rename the columns"
   ]
  },
  {
   "cell_type": "code",
   "execution_count": null,
   "id": "0f882cde",
   "metadata": {},
   "outputs": [],
   "source": [
    "for i in range (0,11):\n",
    "    for j in range (0,11):\n",
    "        locals()[f'df{i}_{j}_rename']=locals()[f'df{i}_{j}_select'].rename(columns={\n",
    "         'axisTauExtMsr_LBR_iiwa_14_R820_1[0]':'exT_A1',\n",
    "         'axisTauExtMsr_LBR_iiwa_14_R820_1[1]':'exT_A2',\n",
    "         'axisTauExtMsr_LBR_iiwa_14_R820_1[2]':'exT_A3',\n",
    "         'axisTauExtMsr_LBR_iiwa_14_R820_1[3]':'exT_A4',\n",
    "         'axisTauExtMsr_LBR_iiwa_14_R820_1[4]':'exT_A5',\n",
    "         'axisTauExtMsr_LBR_iiwa_14_R820_1[5]':'exT_A6',\n",
    "         'axisTauExtMsr_LBR_iiwa_14_R820_1[6]':'exT_A7',\n",
    "         'axisTauMsr_LBR_iiwa_14_R820_1[0]':'msT_A1',\n",
    "         'axisTauMsr_LBR_iiwa_14_R820_1[1]':'msT_A2',\n",
    "         'axisTauMsr_LBR_iiwa_14_R820_1[2]':'msT_A3',\n",
    "         'axisTauMsr_LBR_iiwa_14_R820_1[3]':'msT_A4',\n",
    "         'axisTauMsr_LBR_iiwa_14_R820_1[4]':'msT_A5',\n",
    "         'axisTauMsr_LBR_iiwa_14_R820_1[5]':'msT_A6',\n",
    "         'axisTauMsr_LBR_iiwa_14_R820_1[6]':'msT_A7',\n",
    "         'cartForce1_X':'Fx',\n",
    "         'cartForce1_Y':'Fy',\n",
    "         'cartForce1_Z':'Fz',\n",
    "         'cartTorque1_TauX':'Tx',\n",
    "         'cartTorque1_TauY':'Ty',\n",
    "         'cartTorque1_TauZ':'Tz',\n",
    "         'axisQMsr_LBR_iiwa_14_R820_1[0]':'cur_A1',\n",
    "         'axisQMsr_LBR_iiwa_14_R820_1[1]':'cur_A2',\n",
    "         'axisQMsr_LBR_iiwa_14_R820_1[2]':'cur_A3',\n",
    "         'axisQMsr_LBR_iiwa_14_R820_1[3]':'cur_A4',\n",
    "         'axisQMsr_LBR_iiwa_14_R820_1[4]':'cur_A5',\n",
    "         'axisQMsr_LBR_iiwa_14_R820_1[5]':'cur_A6',\n",
    "         'axisQMsr_LBR_iiwa_14_R820_1[6]':'cur_A7',\n",
    "         'axisQCmdT1m_LBR_iiwa_14_R820_1[0]':'comd_A1',\n",
    "         'axisQCmdT1m_LBR_iiwa_14_R820_1[1]':'comd_A2',\n",
    "         'axisQCmdT1m_LBR_iiwa_14_R820_1[2]':'comd_A3',\n",
    "         'axisQCmdT1m_LBR_iiwa_14_R820_1[3]':'comd_A4',\n",
    "         'axisQCmdT1m_LBR_iiwa_14_R820_1[4]':'comd_A5',\n",
    "         'axisQCmdT1m_LBR_iiwa_14_R820_1[5]':'comd_A6',\n",
    "         'axisQCmdT1m_LBR_iiwa_14_R820_1[6]':'comd_A7',\n",
    "         'CartPosMsr1_X':'curCart_x',\n",
    "         'CartPosMsr1_Y':'curCart_y',\n",
    "         'CartPosMsr1_Z':'curCart_z',\n",
    "         'CartPosCmd1_X':'comdCart_x',\n",
    "         'CartPosCmd1_Y':'comdCart_y',\n",
    "         'CartPosCmd1_Z':'comdCart_z'})"
   ]
  },
  {
   "cell_type": "code",
   "execution_count": null,
   "id": "e71dc0c9",
   "metadata": {},
   "outputs": [],
   "source": [
    "df0_0_rename"
   ]
  },
  {
   "cell_type": "markdown",
   "id": "48d468a9",
   "metadata": {},
   "source": [
    "### merge dataframe and set key"
   ]
  },
  {
   "cell_type": "markdown",
   "id": "5ec997d5",
   "metadata": {},
   "source": [
    "first add key for each dataframe"
   ]
  },
  {
   "cell_type": "code",
   "execution_count": null,
   "id": "66acd097",
   "metadata": {},
   "outputs": [],
   "source": [
    "for i in range (0,11):\n",
    "    for j in range (0,11):\n",
    "        locals()[f'df{i}_{j}_key']=locals()[f'df{i}_{j}_rename']\n",
    "        locals()[f'df{i}_{j}_key']['key']=\"{0},{1}\".format(i,j)"
   ]
  },
  {
   "cell_type": "code",
   "execution_count": null,
   "id": "39199eb3",
   "metadata": {},
   "outputs": [],
   "source": [
    "df0_0_key"
   ]
  },
  {
   "cell_type": "markdown",
   "id": "fba4fca1",
   "metadata": {},
   "source": [
    "merge all dataframe into one and save for later use"
   ]
  },
  {
   "cell_type": "code",
   "execution_count": null,
   "id": "83c0bb5b",
   "metadata": {},
   "outputs": [],
   "source": [
    "full_df = pd.DataFrame()\n",
    "for i in range (0,11):\n",
    "    for j in range (0,11):\n",
    "        full_df = pd.concat([full_df,locals()[f'df{i}_{j}_key']],ignore_index=True)"
   ]
  },
  {
   "cell_type": "code",
   "execution_count": null,
   "id": "2eaaee85",
   "metadata": {},
   "outputs": [],
   "source": [
    "full_df"
   ]
  },
  {
   "cell_type": "code",
   "execution_count": null,
   "id": "c36bb2a3",
   "metadata": {},
   "outputs": [],
   "source": [
    "full_df.to_csv('full.csv', index=False)"
   ]
  },
  {
   "cell_type": "markdown",
   "id": "c6a4f524",
   "metadata": {},
   "source": [
    "## Training"
   ]
  },
  {
   "cell_type": "markdown",
   "id": "ed2c82ca",
   "metadata": {},
   "source": [
    "### Position Estimation FFNN"
   ]
  },
  {
   "cell_type": "markdown",
   "id": "2adabf72",
   "metadata": {},
   "source": [
    "#### FFNN Regression here start"
   ]
  },
  {
   "cell_type": "markdown",
   "id": "2ffc6139",
   "metadata": {},
   "source": [
    "**import the saved csv file**"
   ]
  },
  {
   "cell_type": "code",
   "execution_count": null,
   "id": "18a90345",
   "metadata": {},
   "outputs": [],
   "source": [
    "data_df = pd.read_feather('../data/feather/versuch_f1_3000_1.feather')"
   ]
  },
  {
   "cell_type": "markdown",
   "id": "d8c97072",
   "metadata": {},
   "source": [
    "**transform cartesian position**"
   ]
  },
  {
   "cell_type": "markdown",
   "id": "730debe7",
   "metadata": {},
   "source": [
    "since the data is recorded according to world frame, the cartesian position of the TCP have values over hundert. Here we will transform it according to the center position of the plate."
   ]
  },
  {
   "cell_type": "code",
   "execution_count": null,
   "id": "13499f9a",
   "metadata": {},
   "outputs": [],
   "source": [
    "def transform_cart_pos(dataFrame):\n",
    "    new_df = dataFrame.copy()\n",
    "    new_df = new_df\n",
    "    # x\n",
    "    new_df['curCart_x'] = new_df['curCart_x'] - 578.6\n",
    "    new_df['comdCart_x'] = new_df['comdCart_x'] - 578.6\n",
    "    #y\n",
    "    new_df['curCart_y'] = new_df['curCart_y'] + 261.4\n",
    "    new_df['comdCart_y'] = new_df['comdCart_y'] + 261.4\n",
    "    #z\n",
    "    new_df['curCart_z'] = new_df['curCart_z'] - 375\n",
    "    new_df['comdCart_z'] = new_df['comdCart_z'] - 375\n",
    "    return new_df"
   ]
  },
  {
   "cell_type": "code",
   "execution_count": null,
   "id": "c950a77e",
   "metadata": {},
   "outputs": [],
   "source": [
    "df_transform = transform_cart_pos(data_df)"
   ]
  },
  {
   "cell_type": "markdown",
   "id": "37c94d67",
   "metadata": {},
   "source": [
    "shuffle the data"
   ]
  },
  {
   "cell_type": "code",
   "execution_count": null,
   "id": "e604829b",
   "metadata": {},
   "outputs": [],
   "source": [
    "df_shuffle = df_transform.sample(frac=1, random_state=1)\n",
    "X = df_shuffle[['exT_A1','exT_A2','exT_A3','exT_A4','exT_A5','exT_A6','exT_A7',\n",
    "                'msT_A1','msT_A2','msT_A3','msT_A4','msT_A5','msT_A6','msT_A7',\n",
    "                'Fx','Fy','Fz','Tx','Ty','Tz']].to_numpy()\n",
    "y = df_shuffle[['curCart_x','curCart_y','curCart_z']].to_numpy()"
   ]
  },
  {
   "cell_type": "code",
   "execution_count": null,
   "id": "74d7ad67",
   "metadata": {},
   "outputs": [],
   "source": [
    "X_train_full, X_test, y_train_full, y_test = train_test_split(X, y, test_size=0.2, random_state=2)\n",
    "X_train, X_val, y_train, y_val = train_test_split(X_train_full, y_train_full, test_size=0.2, random_state=3)"
   ]
  },
  {
   "cell_type": "code",
   "execution_count": null,
   "id": "f40f1cb9",
   "metadata": {},
   "outputs": [],
   "source": [
    "X_train.min(),X_train.max()"
   ]
  },
  {
   "cell_type": "code",
   "execution_count": null,
   "id": "21df9552",
   "metadata": {},
   "outputs": [],
   "source": [
    "def build_model(hp):\n",
    "    # create model\n",
    "    model = Sequential()\n",
    "    model.add(Dense(20, input_shape=(20,), activation='relu'))\n",
    "    # Tune number of layers\n",
    "    for i in range(hp.Int(\"num_layers\", 1, 5)):\n",
    "        model.add(Dense(\n",
    "                # Tune number of units\n",
    "                units = hp.Int(f\"units_{i}\", min_value=32, max_value=512, step=32),\n",
    "                # Tune activation function\n",
    "                activation = hp.Choice(\"activation\", [\"relu\",\"tanh\"])\n",
    "                        )\n",
    "                 )\n",
    "    # Tune whether to use dropout\n",
    "    #if hp.Boolean(\"dropout\"):\n",
    "        #model.add(Dropout(rate=0.2))\n",
    "    model.add(Dense(3, activation='linear'))\n",
    "    # definr the optimizer learning rate as hyperparameter\n",
    "    lr = hp.Float(\"lr\", min_value=1e-4, max_value=1e-2, sampling=\"log\")\n",
    "    # compile model\n",
    "    model.compile(optimizer=keras.optimizers.Adam(learning_rate=lr), loss=\"mse\", metrics=[\"mae\"])\n",
    "    return model"
   ]
  },
  {
   "cell_type": "code",
   "execution_count": null,
   "id": "03ea3469",
   "metadata": {},
   "outputs": [],
   "source": [
    "hp = keras_tuner.HyperParameters()\n",
    "build_model(hp)\n",
    "\n",
    "tuner = keras_tuner.RandomSearch(\n",
    "    hypermodel=build_model,\n",
    "    objective=\"val_mae\",\n",
    "    max_trials=3,\n",
    "    executions_per_trial=2,\n",
    "    overwrite=True,\n",
    "    directory=\"my_dir\",\n",
    "    project_name=\"test_mae2\",\n",
    "    max_consecutive_failed_trials=3,\n",
    ")\n",
    "\n",
    "tuner.search(X_train, y_train, epochs=30, validation_data=(X_val, y_val),\n",
    "            callbacks=[keras.callbacks.TensorBoard('my_dir/tb_mae2')])"
   ]
  },
  {
   "cell_type": "code",
   "execution_count": null,
   "id": "ae6123ff",
   "metadata": {},
   "outputs": [],
   "source": [
    "models = tuner.get_best_models(num_models=2)\n",
    "best_model = models[0]\n",
    "best_model.build(input_shape=(20,))\n",
    "best_model.summary()"
   ]
  },
  {
   "cell_type": "code",
   "execution_count": null,
   "id": "6990a165",
   "metadata": {},
   "outputs": [],
   "source": [
    "tuner.oracle.get_best_trials()[0].trial_id"
   ]
  },
  {
   "cell_type": "code",
   "execution_count": null,
   "id": "fa366fe5",
   "metadata": {},
   "outputs": [],
   "source": [
    "def baseline_model(hidden_layer_dim):\n",
    "    # create model\n",
    "    model = Sequential()\n",
    "    model.add(Dense(20, input_shape=(20,), kernel_initializer='normal', activation='relu'))\n",
    "    model.add(Dense(hidden_layer_dim, activation='relu'))\n",
    "    model.add(Dense(3, kernel_initializer='normal', activation='linear'))\n",
    "    # Compile model\n",
    "    model.compile(loss='mean_squared_error', optimizer='adam', metrics=['mae'])\n",
    "    return model"
   ]
  },
  {
   "cell_type": "code",
   "execution_count": null,
   "id": "3ad4f7a7",
   "metadata": {},
   "outputs": [],
   "source": [
    "model = KerasRegressor(baseline_model, hidden_layer_dim=20)"
   ]
  },
  {
   "cell_type": "code",
   "execution_count": null,
   "id": "6669c882",
   "metadata": {},
   "outputs": [],
   "source": [
    "history = test_model.fit(X_train, y_train, epochs=30, batch_size=30,  verbose=1, validation_data=[X_val, y_val])"
   ]
  },
  {
   "cell_type": "code",
   "execution_count": null,
   "id": "397af502",
   "metadata": {},
   "outputs": [],
   "source": [
    "history = model.fit(X_train, y_train, epochs=100, batch_size=30,  verbose=1, validation_data=[X_val, y_val])"
   ]
  },
  {
   "cell_type": "code",
   "execution_count": null,
   "id": "89ef0247",
   "metadata": {},
   "outputs": [],
   "source": [
    "plt.plot(history.history['loss'])\n",
    "plt.plot(history.history['val_loss'])\n",
    "plt.title('model loss (mse)')\n",
    "plt.ylabel('loss[mm]')\n",
    "plt.xlabel('epoch')\n",
    "plt.legend(['train', 'validation'], loc='upper right')\n",
    "plt.show()"
   ]
  },
  {
   "cell_type": "code",
   "execution_count": null,
   "id": "16393bae",
   "metadata": {},
   "outputs": [],
   "source": [
    "plt.plot(history.history['mae'])\n",
    "plt.plot(history.history['val_mae'])\n",
    "plt.title('model mae')\n",
    "plt.ylabel('mae[mm]')\n",
    "plt.xlabel('epoch')\n",
    "plt.legend(['train', 'validation'], loc='upper left')\n",
    "plt.show()"
   ]
  },
  {
   "cell_type": "code",
   "execution_count": null,
   "id": "17bd4c10",
   "metadata": {},
   "outputs": [],
   "source": [
    "pred = model.predict(X_test)\n",
    "diff = pred-y_test\n",
    "\n",
    "plt.boxplot(diff)\n",
    "plt.ylabel('Error [mm]')"
   ]
  },
  {
   "cell_type": "markdown",
   "id": "827925a5",
   "metadata": {},
   "source": [
    "### Position Classification FFNN"
   ]
  },
  {
   "cell_type": "markdown",
   "id": "0e541f49",
   "metadata": {},
   "source": [
    "<br>\n",
    "<img src=\"./pic/CubePlatte_Classification.drawio.png\" width=\"400\">\n",
    "<br>"
   ]
  },
  {
   "cell_type": "code",
   "execution_count": null,
   "id": "71458519",
   "metadata": {},
   "outputs": [],
   "source": [
    "# define position\n",
    "def add_pos_label(dataFrame):\n",
    "    for i in range(0,dataFrame.shape[0]):\n",
    "        x = dataFrame['curCart_x'][i]\n",
    "        y = dataFrame['curCart_y'][i]\n",
    "        f1 = y - 2*x\n",
    "        f2 = y + 2*x\n",
    "        f3 = y - x/2\n",
    "        f4 = y + x/2\n",
    "        # class 1\n",
    "        if (f1<0) & (f3>=0):\n",
    "            dataFrame.loc[i,'position']='class 1'\n",
    "        # class 2\n",
    "        elif (f3<0) & (f4>=0):\n",
    "            dataFrame.loc[i,'position']='class 2'\n",
    "        # class 3\n",
    "        elif (f4<0) & (f2>=0):\n",
    "            dataFrame.loc[i,'position']='class 3'\n",
    "        # class 4\n",
    "        elif (f2<0) & (f1<=0):\n",
    "            dataFrame.loc[i,'position']='class 4'\n",
    "        # class 5\n",
    "        elif (f1>0) & (f3<=0):\n",
    "            dataFrame.loc[i,'position']='class 5'\n",
    "        # class 6\n",
    "        elif (f3>0) & (f4<=0):\n",
    "            dataFrame.loc[i,'position']='class 6'\n",
    "        # class 7\n",
    "        elif (f4>0) & (f2<=0):\n",
    "            dataFrame.loc[i,'position']='class 7'\n",
    "        # class 8\n",
    "        elif (f2>0) & (f1>=0):\n",
    "            dataFrame.loc[i,'position']='class 8'\n",
    "    return dataFrame"
   ]
  },
  {
   "cell_type": "code",
   "execution_count": null,
   "id": "646f5c17",
   "metadata": {},
   "outputs": [],
   "source": [
    "df_pos = add_pos_label(df_transform)"
   ]
  },
  {
   "cell_type": "code",
   "execution_count": null,
   "id": "c1489e94",
   "metadata": {},
   "outputs": [],
   "source": [
    "# save for later use\n",
    "df_pos.to_csv('df_pos.csv', index=False)"
   ]
  },
  {
   "cell_type": "markdown",
   "id": "06d05afa",
   "metadata": {},
   "source": [
    "#### FFNN Classification here start"
   ]
  },
  {
   "cell_type": "code",
   "execution_count": null,
   "id": "6166f1d5",
   "metadata": {},
   "outputs": [],
   "source": [
    "# import csv\n",
    "df_pos = pd.read_csv('df_pos.csv')"
   ]
  },
  {
   "cell_type": "code",
   "execution_count": null,
   "id": "b4f3ba5f",
   "metadata": {},
   "outputs": [],
   "source": [
    "df_pos"
   ]
  },
  {
   "cell_type": "code",
   "execution_count": null,
   "id": "bf2bed4a",
   "metadata": {},
   "outputs": [],
   "source": [
    "X_cl_ffnn = df_pos[['exT_A1','exT_A2','exT_A3','exT_A4','exT_A5','exT_A6','exT_A7',\n",
    "                'msT_A1','msT_A2','msT_A3','msT_A4','msT_A5','msT_A6','msT_A7',\n",
    "                'Fx','Fy','Fz','Tx','Ty','Tz']].to_numpy()\n",
    "y_cl_ffnn = df_pos[['position']].to_numpy()"
   ]
  },
  {
   "cell_type": "code",
   "execution_count": null,
   "id": "dd6bcb29",
   "metadata": {},
   "outputs": [],
   "source": [
    "binarizer = LabelBinarizer().fit(y_cl_ffnn)\n",
    "y_label = binarizer.transform(y_cl_ffnn)"
   ]
  },
  {
   "cell_type": "code",
   "execution_count": null,
   "id": "7c8c8f52",
   "metadata": {},
   "outputs": [],
   "source": [
    "X_train_full, X_test, y_train_full, y_test = train_test_split(X_cl_ffnn, y_label, test_size=0.2, random_state=2)\n",
    "X_train, X_val, y_train, y_val = train_test_split(X_train_full, y_train_full, test_size=0.2, random_state=3)"
   ]
  },
  {
   "cell_type": "code",
   "execution_count": null,
   "id": "1649f904",
   "metadata": {},
   "outputs": [],
   "source": [
    "class MyHyperModel(keras_tuner.HyperModel):\n",
    "    def build(self, hp):\n",
    "        # create model\n",
    "        model = Sequential()\n",
    "        model.add(Dense(20, input_shape=(20,), activation='relu'))\n",
    "        # Tune number of layers\n",
    "        for i in range(hp.Int(\"num_layers\", 1, 5)):\n",
    "            model.add(Dense(\n",
    "                    # Tune number of units\n",
    "                    units = hp.Int(f\"units_{i}\", min_value=32, max_value=512, step=32),\n",
    "                    # Tune activation function\n",
    "                    activation = hp.Choice(\"activation\", [\"relu\",\"tanh\"])\n",
    "                            )\n",
    "                     )\n",
    "        # Tune whether to use dropout\n",
    "        #if hp.Boolean(\"dropout\"):\n",
    "            #model.add(Dropout(rate=0.2))\n",
    "        model.add(Dense(8, activation='softmax'))\n",
    "        # definr the optimizer learning rate as hyperparameter\n",
    "        lr = hp.Float(\"lr\", min_value=1e-4, max_value=1e-2, sampling=\"log\")\n",
    "        # compile model\n",
    "        model.compile(optimizer=keras.optimizers.Adam(learning_rate=lr), \n",
    "                      loss=\"categorical_crossentropy\", \n",
    "                      metrics=[\"accuracy\"])\n",
    "        return model\n",
    "\n",
    "    def fit(self, hp, model, *args, **kwargs):\n",
    "        return model.fit(\n",
    "            *args,\n",
    "            batch_size=hp.Choice(\"batch_size\", [16, 32]),\n",
    "            **kwargs,\n",
    "        )\n",
    "\n",
    "tuner_cl = keras_tuner.RandomSearch(\n",
    "    MyHyperModel(),\n",
    "    objective=\"val_accuracy\",\n",
    "    max_trials=5,\n",
    "    overwrite=True,\n",
    "    directory=\"my_dir\",\n",
    "    project_name=\"test_cl2\",\n",
    ")"
   ]
  },
  {
   "cell_type": "code",
   "execution_count": null,
   "id": "d285005c",
   "metadata": {},
   "outputs": [],
   "source": [
    "tuner_cl.search(X_train, y_train, epochs=20, validation_data=(X_val, y_val),\n",
    "            callbacks=[keras.callbacks.TensorBoard('my_dir/tb_cl2')])"
   ]
  },
  {
   "cell_type": "code",
   "execution_count": null,
   "id": "19eff5c4",
   "metadata": {},
   "outputs": [],
   "source": [
    "models_cl = tuner_cl.get_best_models(num_models=2)\n",
    "best_cl_model = models_cl[0]\n",
    "best_cl_model.build(input_shape=(20,))\n",
    "best_cl_model.summary()"
   ]
  },
  {
   "cell_type": "code",
   "execution_count": null,
   "id": "75cf6e33",
   "metadata": {},
   "outputs": [],
   "source": [
    "best_cl_model.save('model_cl2')"
   ]
  },
  {
   "cell_type": "code",
   "execution_count": null,
   "id": "3d4d8380",
   "metadata": {},
   "outputs": [],
   "source": [
    "test_cl_model = keras.models.load_model('model_cl')"
   ]
  },
  {
   "cell_type": "code",
   "execution_count": null,
   "id": "f5622321",
   "metadata": {},
   "outputs": [],
   "source": [
    "plot_model(test_cl_model, show_shapes=True, show_layer_names=True)"
   ]
  },
  {
   "cell_type": "code",
   "execution_count": null,
   "id": "9d5488a4",
   "metadata": {},
   "outputs": [],
   "source": [
    "%load_ext tensorboard\n",
    "%tensorboard --logdir \"my_dir/tb_cl\""
   ]
  },
  {
   "cell_type": "code",
   "execution_count": null,
   "id": "8c1c9bf5",
   "metadata": {},
   "outputs": [],
   "source": [
    "score, acc = test_cl_model.evaluate(X_test, y_test) #batch_size=batch_size\n",
    "print('Test score:', score)\n",
    "print('Test accuracy:', acc)"
   ]
  },
  {
   "cell_type": "markdown",
   "id": "a8790b8e",
   "metadata": {},
   "source": [
    "### Position Estimation CNN"
   ]
  },
  {
   "cell_type": "code",
   "execution_count": null,
   "id": "d293be33",
   "metadata": {},
   "outputs": [],
   "source": [
    "# import csv\n",
    "df_pos = pd.read_csv('df_pos.csv')"
   ]
  },
  {
   "cell_type": "code",
   "execution_count": null,
   "id": "052332b7",
   "metadata": {},
   "outputs": [],
   "source": [
    "select_df = df_pos[['exT_A1','exT_A2','exT_A3','exT_A4','exT_A5','exT_A6','exT_A7',\n",
    "                'msT_A1','msT_A2','msT_A3','msT_A4','msT_A5','msT_A6','msT_A7',\n",
    "                'Fx','Fy','Fz','Tx','Ty','Tz','curCart_x','curCart_y','curCart_z','key','position']]"
   ]
  },
  {
   "cell_type": "markdown",
   "id": "3f81b2c3",
   "metadata": {},
   "source": [
    "transform in time series"
   ]
  },
  {
   "cell_type": "code",
   "execution_count": null,
   "id": "37104b60",
   "metadata": {},
   "outputs": [],
   "source": [
    "def time_series_transform(dataframe):\n",
    "    test_df = timeseries_dataset_from_array(dataframe, None, sequence_length=10,shuffle=False)\n",
    "    el = []\n",
    "    for element in test_df:\n",
    "        el.append(element.numpy())\n",
    "    el_res = np.concatenate(el, axis=0)\n",
    "    return el_res"
   ]
  },
  {
   "cell_type": "code",
   "execution_count": null,
   "id": "33c07ff0",
   "metadata": {},
   "outputs": [],
   "source": [
    "for i in range(0,11):\n",
    "    for j in range(0,11):\n",
    "        locals()[f'key{i}_{j}'] = select_df.loc[select_df['key'] == '{0},{1}'.format(i,j)]\n",
    "        for k in range(0,20):\n",
    "            locals()[f'key{i}_{j}_{k}'] = time_series_transform(locals()[f'key{i}_{j}'].iloc[:,k])"
   ]
  },
  {
   "cell_type": "code",
   "execution_count": null,
   "id": "9e0f660f",
   "metadata": {},
   "outputs": [],
   "source": [
    "for i in range(0,11):\n",
    "    for j in range(0,11):\n",
    "        locals()[f'ts_key{i}_{j}'] = []\n",
    "        for k in range(0,20):\n",
    "            locals()[f'ts_key{i}_{j}'].append(locals()[f'key{i}_{j}_{k}'])\n",
    "        locals()[f'ts_key{i}_{j}'] = np.stack(locals()[f'ts_key{i}_{j}'], axis=-1)\n",
    "ts_input = np.stack(ts_key0_0, axis=-1)"
   ]
  },
  {
   "cell_type": "code",
   "execution_count": null,
   "id": "2b2b8a3d",
   "metadata": {},
   "outputs": [],
   "source": [
    "ts_input = []\n",
    "for i in range(0,11):\n",
    "    for j in range(0,11):\n",
    "        ts_input.append(locals()[f'ts_key{i}_{j}'])\n",
    "ts_input = np.concatenate(ts_input, axis=0)"
   ]
  },
  {
   "cell_type": "markdown",
   "id": "d5d077fa",
   "metadata": {},
   "source": [
    "reshape output"
   ]
  },
  {
   "cell_type": "code",
   "execution_count": null,
   "id": "d45af7d7",
   "metadata": {},
   "outputs": [],
   "source": [
    "ts_output = []\n",
    "for i in range(0,11):\n",
    "    for j in range(0,11):\n",
    "        ts_output.append(locals()[f'key{i}_{j}'][['curCart_x','curCart_y']][9:].to_numpy())\n",
    "ts_output = np.concatenate(ts_output, axis=0)"
   ]
  },
  {
   "cell_type": "code",
   "execution_count": null,
   "id": "f721327e",
   "metadata": {},
   "outputs": [],
   "source": [
    "ts_output_pos = []\n",
    "for i in range(0,11):\n",
    "    for j in range(0,11):\n",
    "        ts_output_pos.append(locals()[f'key{i}_{j}'][['position']][9:].to_numpy())\n",
    "ts_output_pos = np.concatenate(ts_output_pos, axis=0)"
   ]
  },
  {
   "cell_type": "markdown",
   "id": "cda26b5f",
   "metadata": {},
   "source": [
    "save for later use"
   ]
  },
  {
   "cell_type": "code",
   "execution_count": null,
   "id": "b1150ddc",
   "metadata": {},
   "outputs": [],
   "source": [
    "np.savez_compressed('ts_data', ts_input=ts_input,ts_output=ts_output,ts_output_pos=ts_output_pos)"
   ]
  },
  {
   "cell_type": "markdown",
   "id": "e7a26ca3",
   "metadata": {},
   "source": [
    "#### CNN Regression here start"
   ]
  },
  {
   "cell_type": "markdown",
   "id": "b714d1ae",
   "metadata": {},
   "source": [
    "import saved preprocessed data"
   ]
  },
  {
   "cell_type": "code",
   "execution_count": null,
   "id": "bcbb7566",
   "metadata": {},
   "outputs": [],
   "source": [
    "ts_data = np.load('./ts_data.npz', allow_pickle=True)\n",
    "\n",
    "ts_input = ts_data['ts_input']\n",
    "ts_output = ts_data['ts_output']\n",
    "ts_output_pos = ts_data['ts_output_pos']"
   ]
  },
  {
   "cell_type": "code",
   "execution_count": null,
   "id": "6c58ad05",
   "metadata": {},
   "outputs": [],
   "source": [
    "# train test split\n",
    "X_train_full, X_test, y_train_full, y_test = train_test_split(ts_input, ts_output, test_size=0.2, random_state=2)\n",
    "X_train, X_val, y_train, y_val = train_test_split(X_train_full, y_train_full, test_size=0.2, random_state=3)"
   ]
  },
  {
   "cell_type": "code",
   "execution_count": null,
   "id": "bc2b381a",
   "metadata": {},
   "outputs": [],
   "source": [
    "def build_cnn_model(hp):\n",
    "    # create model\n",
    "    model = Sequential()\n",
    "    \n",
    "    # adding input convolutional layer\n",
    "    model.add(Conv1D(\n",
    "                # input shape\n",
    "                input_shape = (10,20),\n",
    "                # filters\n",
    "                filters = hp.Int('conv_input_filter', min_value=16, max_value=128, step=16),\n",
    "                # kernel_size\n",
    "                kernel_size = hp.Choice('conv_input_kernel', values=[3,5]),\n",
    "                # activation\n",
    "                activation = hp.Choice('conv_input_activation', ['relu','tanh']),\n",
    "                padding=\"same\"\n",
    "              ))\n",
    "    \n",
    "    # adding convolutional layer\n",
    "    for i in range (hp.Int(\"num_layers\",1,6)):\n",
    "        model.add(Conv1D(\n",
    "                    # filters\n",
    "                    filters = hp.Int(f'conv_{i}_filter', min_value=16, max_value=128, step=16),\n",
    "                    # kernel_size\n",
    "                    kernel_size = hp.Choice(f'conv_{i}_kernel', values=[3,5]),\n",
    "                    # activation\n",
    "                    activation = hp.Choice(f'conv_{i}_activation', ['relu','tanh']),\n",
    "                    padding=\"same\"\n",
    "                ))\n",
    "    \n",
    "    # Tune whether to use dropout\n",
    "    #if hp.Boolean(\"dropout\"):\n",
    "        #model.add(Dropout(rate=0.25))\n",
    "    \n",
    "    # pooling layer\n",
    "    model.add(GlobalAveragePooling1D())\n",
    "    \n",
    "    # output layer\n",
    "    model.add(Dense(2, activation='linear'))\n",
    "    \n",
    "    # definr the optimizer learning rate as hyperparameter\n",
    "    lr = hp.Float(\"lr\", min_value=1e-3, max_value=1e-2, sampling=\"log\")\n",
    "    \n",
    "    # compile model\n",
    "    model.compile(optimizer=keras.optimizers.Adam(learning_rate=lr), \n",
    "                  loss=\"mse\", \n",
    "                  metrics=[\"mae\"])\n",
    "    return model"
   ]
  },
  {
   "cell_type": "code",
   "execution_count": null,
   "id": "4c4200de",
   "metadata": {},
   "outputs": [],
   "source": [
    "hp_cnn = keras_tuner.HyperParameters()\n",
    "build_cnn_model(hp_cnn)\n",
    "\n",
    "tuner_cnn = keras_tuner.RandomSearch(\n",
    "    hypermodel=build_cnn_model,\n",
    "    objective=\"val_mae\",\n",
    "    max_trials=5,\n",
    "    #executions_per_trial=3,\n",
    "    overwrite=True,\n",
    "    directory=\"mydir\",\n",
    "    project_name=\"test_cnn\",\n",
    ")\n",
    "\n",
    "tuner_cnn.search(X_train, y_train, epochs=10, validation_data=(X_val, y_val),\n",
    "                 callbacks=[keras.callbacks.TensorBoard('my_dir/tb_cnn')])"
   ]
  },
  {
   "cell_type": "code",
   "execution_count": null,
   "id": "e8dd6bdc",
   "metadata": {},
   "outputs": [],
   "source": []
  },
  {
   "cell_type": "code",
   "execution_count": null,
   "id": "80f6c974",
   "metadata": {},
   "outputs": [],
   "source": []
  },
  {
   "cell_type": "markdown",
   "id": "630b956a",
   "metadata": {},
   "source": [
    "#### CNN Classification here start"
   ]
  },
  {
   "cell_type": "code",
   "execution_count": null,
   "id": "b47e212b",
   "metadata": {},
   "outputs": [],
   "source": [
    "ts_data = np.load('./ts_data.npz', allow_pickle=True)\n",
    "\n",
    "ts_input = ts_data['ts_input']\n",
    "ts_output = ts_data['ts_output']\n",
    "ts_output_pos = ts_data['ts_output_pos']"
   ]
  },
  {
   "cell_type": "code",
   "execution_count": null,
   "id": "f92fb430",
   "metadata": {},
   "outputs": [],
   "source": [
    "binarizer = LabelBinarizer().fit(ts_output_pos)\n",
    "y_label = binarizer.transform(ts_output_pos)"
   ]
  },
  {
   "cell_type": "code",
   "execution_count": null,
   "id": "2421938f",
   "metadata": {},
   "outputs": [],
   "source": [
    "# train test split\n",
    "X_train_full, X_test, y_train_full, y_test = train_test_split(ts_input, y_label, test_size=0.2, random_state=2)\n",
    "X_train, X_val, y_train, y_val = train_test_split(X_train_full, y_train_full, test_size=0.2, random_state=3)"
   ]
  },
  {
   "cell_type": "code",
   "execution_count": null,
   "id": "a957b610",
   "metadata": {},
   "outputs": [],
   "source": [
    "def build_cnn_cl_model(hp):\n",
    "    # create model\n",
    "    model = Sequential()\n",
    "    \n",
    "    # adding input convolutional layer\n",
    "    model.add(Conv1D(\n",
    "                # input shape\n",
    "                input_shape = (10,20),\n",
    "                # filters\n",
    "                filters = hp.Int('conv_input_filter', min_value=16, max_value=128, step=16),\n",
    "                # kernel_size\n",
    "                kernel_size = hp.Choice('conv_input_kernel', values=[3,5]),\n",
    "                # activation\n",
    "                activation = hp.Choice('conv_input_activation', ['relu','tanh']),\n",
    "                padding=\"same\"\n",
    "              ))\n",
    "    \n",
    "    # adding convolutional layer\n",
    "    for i in range (hp.Int(\"num_layers\",1,6)):\n",
    "        model.add(Conv1D(\n",
    "                    # filters\n",
    "                    filters = hp.Int(f'conv_{i}_filter', min_value=16, max_value=128, step=16),\n",
    "                    # kernel_size\n",
    "                    kernel_size = hp.Choice(f'conv_{i}_kernel', values=[3,5]),\n",
    "                    # activation\n",
    "                    activation = hp.Choice(f'conv_{i}_activation', ['relu','tanh']),\n",
    "                    padding=\"same\"\n",
    "                ))\n",
    "    \n",
    "    # Tune whether to use dropout\n",
    "    #if hp.Boolean(\"dropout\"):\n",
    "        #model.add(Dropout(rate=0.25))\n",
    "    \n",
    "    # pooling layer\n",
    "    model.add(GlobalAveragePooling1D())\n",
    "    \n",
    "    # output layer\n",
    "    model.add(Dense(8, activation='softmax'))\n",
    "    \n",
    "    # definr the optimizer learning rate as hyperparameter\n",
    "    lr = hp.Float(\"lr\", min_value=1e-3, max_value=1e-2, sampling=\"log\")\n",
    "    \n",
    "    # compile model\n",
    "    model.compile(optimizer=keras.optimizers.Adam(learning_rate=lr), \n",
    "                  loss=\"categorical_crossentropy\", \n",
    "                  metrics=[\"accuracy\"])\n",
    "    return model"
   ]
  },
  {
   "cell_type": "code",
   "execution_count": null,
   "id": "94bc914a",
   "metadata": {},
   "outputs": [],
   "source": [
    "hp_cnn_cl = keras_tuner.HyperParameters()\n",
    "build_cnn_cl_model(hp_cnn_cl)\n",
    "\n",
    "tuner_cnn_cl = keras_tuner.RandomSearch(\n",
    "    hypermodel=build_cnn_cl_model,\n",
    "    objective=\"val_accuracy\",\n",
    "    max_trials=5,\n",
    "    #executions_per_trial=3,\n",
    "    overwrite=True,\n",
    "    directory=\"mydir\",\n",
    "    project_name=\"test_cnn_cl\",\n",
    ")\n",
    "\n",
    "tuner_cnn_cl.search(X_train, y_train, epochs=10, validation_data=(X_val, y_val),\n",
    "                 callbacks=[keras.callbacks.TensorBoard('my_dir/tb_cnn_cl')])"
   ]
  },
  {
   "cell_type": "code",
   "execution_count": null,
   "id": "cfce7333",
   "metadata": {},
   "outputs": [],
   "source": [
    "models_cnn_cl = tuner_cnn_cl.get_best_models(num_models=2)\n",
    "best_cnn_cl_model = models_cnn_cl[0]\n",
    "best_cnn_cl_model.build(input_shape=(10,20))\n",
    "best_cnn_cl_model.summary()"
   ]
  },
  {
   "cell_type": "code",
   "execution_count": null,
   "id": "f05986ff",
   "metadata": {},
   "outputs": [],
   "source": [
    "best_cnn_cl_model.save('models_cnn_cl')"
   ]
  },
  {
   "cell_type": "code",
   "execution_count": null,
   "id": "3743f8d9",
   "metadata": {},
   "outputs": [],
   "source": [
    "test_cnn_cl_model = keras.models.load_model('models_cnn_cl')"
   ]
  },
  {
   "cell_type": "markdown",
   "id": "d44647d2",
   "metadata": {},
   "source": [
    "plot_model(test_cnn_cl_model, show_shapes=True, show_layer_names=True)"
   ]
  },
  {
   "cell_type": "code",
   "execution_count": null,
   "id": "8dafd1b9",
   "metadata": {},
   "outputs": [],
   "source": [
    "score, acc = test_cnn_cl_model.evaluate(X_test, y_test) #batch_size=batch_size\n",
    "print('Test score:', score)\n",
    "print('Test accuracy:', acc)"
   ]
  },
  {
   "cell_type": "code",
   "execution_count": null,
   "id": "d90d5c20",
   "metadata": {},
   "outputs": [],
   "source": [
    "plt.plot(df0_0['cartForce1_X'],label=\"Fx\")\n",
    "plt.plot(df0_0['cartForce1_X'],label=\"Fy\")\n",
    "plt.plot(df0_0['cartForce1_X'],label=\"Fz\")\n",
    "plt.plot(df0_0['cartTorque1_TauX'],label=\"Tx\")\n",
    "plt.plot(df0_0['cartTorque1_TauX'],label=\"Ty\")\n",
    "plt.plot(df0_0['cartTorque1_TauX'],label=\"Tz\")\n",
    "for k in range(0,7):\n",
    "    plt.plot(df0_0['axisTauExtMsr_LBR_iiwa_14_R820_1[{0}]'.format(k)],label=\"ext_j{0}\".format(k+1))\n",
    "for k in range(0,7):\n",
    "    plt.plot(df0_0['axisTauMsr_LBR_iiwa_14_R820_1[{0}]'.format(k)],label=\"int_j{0}\".format(k+1))\n",
    "             \n",
    "plt.legend()"
   ]
  },
  {
   "cell_type": "code",
   "execution_count": null,
   "id": "4b91118e",
   "metadata": {},
   "outputs": [],
   "source": []
  }
 ],
 "metadata": {
  "kernelspec": {
   "display_name": "Python 3 (ipykernel)",
   "language": "python",
   "name": "python3"
  },
  "language_info": {
   "codemirror_mode": {
    "name": "ipython",
    "version": 3
   },
   "file_extension": ".py",
   "mimetype": "text/x-python",
   "name": "python",
   "nbconvert_exporter": "python",
   "pygments_lexer": "ipython3",
   "version": "3.10.13"
  },
  "toc": {
   "base_numbering": 1,
   "nav_menu": {
    "height": "139px",
    "width": "370px"
   },
   "number_sections": true,
   "sideBar": true,
   "skip_h1_title": false,
   "title_cell": "Table of Contents",
   "title_sidebar": "Contents",
   "toc_cell": false,
   "toc_position": {},
   "toc_section_display": true,
   "toc_window_display": false
  }
 },
 "nbformat": 4,
 "nbformat_minor": 5
}
